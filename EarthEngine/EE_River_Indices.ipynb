{
 "cells": [
  {
   "cell_type": "code",
   "execution_count": 1,
   "metadata": {},
   "outputs": [
    {
     "name": "stdout",
     "output_type": "stream",
     "text": [
      "Test!\n"
     ]
    }
   ],
   "source": [
    "print(\"Test!\")"
   ]
  },
  {
   "cell_type": "code",
   "execution_count": 2,
   "metadata": {},
   "outputs": [],
   "source": [
    "# TODO: Aduth file somehow?\n",
    "import ee\n",
    "import numpy as np\n",
    "import geopandas\n",
    "import matplotlib.pyplot as plt\n",
    "\n",
    "# from bqplot import pyplot as plt\n",
    "# from ipyleaflet import *\n",
    "\n",
    "# ee.Authenticate();\n",
    "# ee.Initialize();\n",
    "\n",
    "import geemap\n",
    "import pandas as pd\n"
   ]
  },
  {
   "cell_type": "code",
   "execution_count": 4,
   "metadata": {},
   "outputs": [
    {
     "data": {
      "application/vnd.jupyter.widget-view+json": {
       "model_id": "8304b751d0bf4f80bc7beb09c1327837",
       "version_major": 2,
       "version_minor": 0
      },
      "text/plain": [
       "Map(center=[40, -100], controls=(ZoomControl(options=['position', 'zoom_in_text', 'zoom_in_title', 'zoom_out_t…"
      ]
     },
     "metadata": {},
     "output_type": "display_data"
    }
   ],
   "source": [
    "Map = geemap.Map(center=(40, -100), zoom=4)\n",
    "Map.set_options(mapTypeId='SATELLITE');\n",
    "Map"
   ]
  },
  {
   "cell_type": "code",
   "execution_count": 5,
   "metadata": {},
   "outputs": [
    {
     "name": "stderr",
     "output_type": "stream",
     "text": [
      "/home/sky/ENS_M1_Stage_2022/.venv/lib/python3.9/site-packages/geopandas/io/file.py:362: FutureWarning: pandas.Int64Index is deprecated and will be removed from pandas in a future version. Use pandas.Index with the appropriate dtype instead.\n",
      "  pd.Int64Index,\n"
     ]
    }
   ],
   "source": [
    "shp_path = './Lhasa/Lhasa_RC_DGO2km_updated.shp';\n",
    "lhasa_shp = geemap.shp_to_ee(shp_path);"
   ]
  },
  {
   "cell_type": "code",
   "execution_count": 13,
   "metadata": {},
   "outputs": [],
   "source": [
    "def getCover(image, AOI, scale):\n",
    "    totPixels = ee.Number(image.unmask(1).reduceRegion(\n",
    "        reducer=ee.Reducer.count(),\n",
    "        scale=LANDSAT_SCALE,\n",
    "        geometry=AOI,\n",
    "        maxPixels=1e13\n",
    "    ).values().get(0));\n",
    "    actPixels = ee.Number(image.reduceRegion(\n",
    "        reducer=ee.Reducer.count(),\n",
    "        scale=LANDSAT_SCALE,\n",
    "        geometry=AOI,\n",
    "        maxPixels=1e13\n",
    "    ).values().get(0));\n",
    "    percCover = actPixels.divide(totPixels).multiply(100).round();\n",
    "    return image.set('percCover', percCover);\n",
    "\n",
    "def maskL8sr(image):\n",
    "    cloudShadowBitMask = (1 << 3);\n",
    "    cloudsBitMask = (1 << 5);\n",
    "    qa = image.select('QA_PIXEL');\n",
    "    mask = (qa.bitwiseAnd(cloudShadowBitMask).eq(0)\n",
    "    .And(qa.bitwiseAnd(cloudsBitMask).eq(0)));\n",
    "    return image.updateMask(mask);\n",
    "\n",
    "def addMNDWI(image):\n",
    "    return image.addBands(srcImg=image.normalizedDifference(['B2','B5']).rename('MNDWI')); # B2=greenl B4=SWIR\n",
    "\n",
    "def addIS_WATER_MNDWI(image):\n",
    "    return image.addBands(image.expression('MNDWI >  0.0', {\n",
    "            'MNDWI': image.select('MNDWI'),\n",
    "            }).rename('IS_WATER_MNDWI'));\n",
    "def IS_WATER_INDIC(INDIC, ImColl):\n",
    "    return ImColl.select('IS_WATER_' + INDIC).map(lambda image: image.updateMask(image.neq(0)));\n",
    "\n",
    "def process_polygon(shp, dgo=1, START_DATE='1988-04-06', END_DATE='1988-04-08'):\n",
    "    filt = ee.Filter.inList('DGO_FID', [dgo]);\n",
    "    AOI = shp.filter(filt);\n",
    "    filtered_DGO = AOI;\n",
    "    AOI_ID=f'middle_ID{1}';\n",
    "\n",
    "    START = ee.Date(START_DATE);\n",
    "    END = ee.Date(END_DATE);\n",
    "    DAY_DIFF = ee.Date(END_DATE).difference(START, 'day');\n",
    "    DAY_RANGE = ee.List.sequence(0,DAY_DIFF.subtract(1),1).map(lambda day: START.advance(day,'day'));\n",
    "\n",
    "    #  /* Working resolution, minimum 30 meters, read\n",
    "    #                          https://developers.google.com/earth-engine/guides/scale\n",
    "    #                          to learn how scales/images pyramids work in GEE */\n",
    "\n",
    "    eightCo = True;      # // eightConnected boolean for vectorization\n",
    "    nCo = (eightCo+1)*4; #  // NConnected integer for file exports\n",
    "\n",
    "    #/* int or float, multiplied by LANDSAT_SCALE, becomes the tolerance \n",
    "    #                                  of the simplification of the water polygons */\n",
    "\n",
    "    # Visulization parameters :\n",
    "\n",
    "    NDWI_MIN = -0.3;\n",
    "    NDWI_MAX = 0.3;\n",
    "\n",
    "    NDVI_MIN = -0.5;\n",
    "    NDVI_MAX = 0.5;\n",
    "\n",
    "    CLOUD_PAL = ['gray', 'white'];\n",
    "    NDWI_PAL = ['black','white','blue'];\n",
    "    NDVI_PAL = ['black','white','green'];\n",
    "\n",
    "    LANDSAT_FULL = (ee.ImageCollection('LANDSAT/LC08/C02/T1_L2')\n",
    "        .select(['SR_B2', 'SR_B3', 'SR_B4', 'SR_B5','SR_B6','SR_B7','QA_PIXEL'])\n",
    "        .map(lambda image: image.rename(['B1', 'B2', 'B3', 'B4','B5','B7','QA_PIXEL'])));\n",
    "    LANDSAT_FULL = (LANDSAT_FULL\n",
    "                        .merge(ee.ImageCollection('LANDSAT/LE07/C02/T1_L2').select(['SR_B1', 'SR_B2', 'SR_B3', 'SR_B4','SR_B5','SR_B7','QA_PIXEL']))\n",
    "                        .map(lambda image: image.rename(['B1', 'B2', 'B3', 'B4','B5','B7','QA_PIXEL']))\n",
    "                        .merge(ee.ImageCollection('LANDSAT/LT05/C02/T1_L2').select(['SR_B1', 'SR_B2', 'SR_B3', 'SR_B4','SR_B5','SR_B7','QA_PIXEL']))\n",
    "                        .map(lambda image: image.rename(['B1', 'B2', 'B3', 'B4','B5','B7','QA_PIXEL']))\n",
    "                        .merge(ee.ImageCollection('LANDSAT/LT04/C02/T1_L2').select(['SR_B1', 'SR_B2', 'SR_B3', 'SR_B4','SR_B5','SR_B7','QA_PIXEL']))\n",
    "                        .map(lambda image: image.rename(['B1', 'B2', 'B3', 'B4','B5','B7','QA_PIXEL']))   \n",
    "                    );\n",
    "\n",
    "    LANDSAT = (LANDSAT_FULL\n",
    "        .filterDate(START_DATE, END_DATE)\n",
    "        .filter(ee.Filter.lte('CLOUD_COVER', CLOUD_FILTER))\n",
    "        .map(maskL8sr)\n",
    "        .filterBounds(AOI));\n",
    "\n",
    "    LANDSAT = LANDSAT.map(lambda image: getCover(image, AOI, LANDSAT_SCALE));\n",
    "    LANDSAT = LANDSAT.filterMetadata('percCover', 'greater_than', 98);\n",
    "    LANDSAT = LANDSAT.map(addMNDWI);\n",
    "\n",
    "    LANDSAT = LANDSAT.map(addIS_WATER_MNDWI);\n",
    "\n",
    "    IS_WATER_MNDWI = IS_WATER_INDIC('MNDWI', LANDSAT);\n",
    "    return AOI, LANDSAT, IS_WATER_MNDWI;\n",
    "\n",
    "MIN_PIX = 2; # // To filter small water polygons\n",
    "CLOUD_FILTER = 80;\n",
    "LANDSAT_SCALE = 30;\n",
    "SIMPLIFY_TOLERANCE_N = 2;\n",
    "AOI, LANDSAT, IS_WATER_MNDWI = process_polygon(shp=lhasa_shp, dgo=1);\n",
    "\n",
    "Map.addLayer(LANDSAT.first(), {\"bands\": ['B3', 'B2', 'B1'], \"min\": 9600, \"max\": 16677}, 'RGB');\n",
    "Map.addLayer(lhasa_shp, {}, 'Lhasa River SHP');\n",
    "Map.addLayer(IS_WATER_MNDWI, {'palette': 'Reds'}, 'water MNDWI', True);\n",
    "Map.zoom = 11\n",
    "Map.center_object(lhasa_shp);"
   ]
  },
  {
   "cell_type": "code",
   "execution_count": 17,
   "metadata": {
    "tags": []
   },
   "outputs": [
    {
     "name": "stdout",
     "output_type": "stream",
     "text": [
      "DGO: 78 / 78\n",
      "Done!\n"
     ]
    }
   ],
   "source": [
    "def VECTORIZE_FOR_AOI(AOI):\n",
    "    def VECTORIZE(image):\n",
    "        DAY_VECTORS = image.reduceToVectors(**{\n",
    "            \"geometry\" : AOI,\n",
    "            \"scale\" : LANDSAT_SCALE,\n",
    "            \"eightConnected\" : True,\n",
    "            \"maxPixels\" : 1e12,\n",
    "            \"geometryType\" : 'polygon'\n",
    "        });\n",
    "        return DAY_VECTORS.set('DATE_ACQUIRED',image.get('DATE_ACQUIRED'));\n",
    "    return VECTORIZE;\n",
    "\n",
    "# Add area info to filter out isolated pixels\n",
    "def ADDPROPS_FEAT(feature): \n",
    "    return feature.set({'AREA' : feature.area(LANDSAT_SCALE)});\n",
    "\n",
    "def WRAP_COL_FOR_AOI(AOI):\n",
    "    def WRAP_COL(collection):\n",
    "        collection = (ee.FeatureCollection(collection).map(ADDPROPS_FEAT)\n",
    "            .filterMetadata('AREA', 'greater_than', MIN_PIX * LANDSAT_SCALE * LANDSAT_SCALE));\n",
    "        time_start = collection.get('DATE_ACQUIRED');\n",
    "        collection.map(lambda feature: feature.set({'DATE_ACQUIRED' : time_start}));\n",
    "        geom = collection.geometry();\n",
    "        geom_smooth = collection.geometry().simplify(**{'maxError' : SIMPLIFY_TOLERANCE_N*LANDSAT_SCALE});\n",
    "        polygon = AOI.geometry(); #this is the polygon of the AOI/DGO\n",
    "        polygon_smooth = AOI.geometry().simplify(**{'maxError' : SIMPLIFY_TOLERANCE_N*LANDSAT_SCALE})\n",
    "\n",
    "        return ee.Feature(geom, {\n",
    "            'TOTAL_PERIM' : geom.perimeter(LANDSAT_SCALE),\n",
    "            'AREA' : geom.area(LANDSAT_SCALE),\n",
    "            'TOTAL_PERIM_SMOOTH' : geom_smooth.perimeter(LANDSAT_SCALE),\n",
    "            'AREA_SMOOTH' : geom_smooth.area(LANDSAT_SCALE),\n",
    "            'AREA_POLYGON' : polygon_smooth.area(LANDSAT_SCALE), # this is the polygon of the AOI/DGO\n",
    "            'SENSING_TIME' : collection.get('DATE_ACQUIRED')\n",
    "        });\n",
    "    return WRAP_COL;\n",
    "\n",
    "def WATER_VEC(AOI, ImColl):\n",
    "    WVEC = ImColl.map(VECTORIZE_FOR_AOI(AOI));\n",
    "    return ee.FeatureCollection(WVEC.map(WRAP_COL_FOR_AOI(AOI)));\n",
    "\n",
    "\n",
    "import os\n",
    "RIVER_PROPERTIES = [];\n",
    "CLOUD_FILTER = 80;\n",
    "FILE_NAME = \"Lhasa/Lhasa_Data-CC-80.csv\";\n",
    "# TODO: Read DGO Count from shp \n",
    "# Do 22 Dgos\n",
    "for i in range(1, 78):\n",
    "    # TODO: Print using ipython notify (progress bar...)    \n",
    "    RIVER_PROPERTIES = [];\n",
    "    print(\"DGO:\", i, \"/\", 77);\n",
    "    AOI, LANDSAT, IS_WATER_MNDWI = process_polygon(shp=lhasa_shp, dgo=i, START_DATE='1980-01-01', END_DATE='2100-01-01');\n",
    "    ISWV_MNDWI = WATER_VEC(AOI, IS_WATER_MNDWI);\n",
    "    info = ISWV_MNDWI.getInfo(); # PROCESS AND PULL RESULT\n",
    "    property_list = map(lambda x: {\n",
    "            \"ID\": i,\n",
    "            \"Tile_ID\": x['id'],\n",
    "            **x['properties']\n",
    "        }, info['features']);\n",
    "    # Map over properties (calculate Braiding Index e.t.c.)\n",
    "    RIVER_PROPERTIES += list(property_list);\n",
    "    if(os.path.exists(FILE_NAME)):\n",
    "        df = pd.read_csv(FILE_NAME, index_col=0);\n",
    "        df = pd.concat([df, pd.DataFrame(RIVER_PROPERTIES)]);\n",
    "    else:\n",
    "        df = pd.DataFrame(RIVER_PROPERTIES);\n",
    "    df = df.loc[:, ~df.columns.str.contains('^Unnamed')];\n",
    "    df.to_csv(FILE_NAME);    \n",
    "print(\"Done!\");"
   ]
  },
  {
   "cell_type": "code",
   "execution_count": 8,
   "metadata": {
    "collapsed": true,
    "jupyter": {
     "outputs_hidden": true
    },
    "tags": []
   },
   "outputs": [
    {
     "ename": "FileNotFoundError",
     "evalue": "[Errno 2] No such file or directory: 'test.csv'",
     "output_type": "error",
     "traceback": [
      "\u001b[0;31m---------------------------------------------------------------------------\u001b[0m",
      "\u001b[0;31mFileNotFoundError\u001b[0m                         Traceback (most recent call last)",
      "Input \u001b[0;32mIn [8]\u001b[0m, in \u001b[0;36m<cell line: 1>\u001b[0;34m()\u001b[0m\n\u001b[0;32m----> 1\u001b[0m df \u001b[38;5;241m=\u001b[39m \u001b[43mpd\u001b[49m\u001b[38;5;241;43m.\u001b[39;49m\u001b[43mread_csv\u001b[49m\u001b[43m(\u001b[49m\u001b[38;5;124;43m\"\u001b[39;49m\u001b[38;5;124;43mtest.csv\u001b[39;49m\u001b[38;5;124;43m\"\u001b[39;49m\u001b[43m)\u001b[49m\n\u001b[1;32m      2\u001b[0m df\n",
      "File \u001b[0;32m~/ENS_M1_Stage_2022/.venv/lib/python3.9/site-packages/pandas/util/_decorators.py:311\u001b[0m, in \u001b[0;36mdeprecate_nonkeyword_arguments.<locals>.decorate.<locals>.wrapper\u001b[0;34m(*args, **kwargs)\u001b[0m\n\u001b[1;32m    305\u001b[0m \u001b[38;5;28;01mif\u001b[39;00m \u001b[38;5;28mlen\u001b[39m(args) \u001b[38;5;241m>\u001b[39m num_allow_args:\n\u001b[1;32m    306\u001b[0m     warnings\u001b[38;5;241m.\u001b[39mwarn(\n\u001b[1;32m    307\u001b[0m         msg\u001b[38;5;241m.\u001b[39mformat(arguments\u001b[38;5;241m=\u001b[39marguments),\n\u001b[1;32m    308\u001b[0m         \u001b[38;5;167;01mFutureWarning\u001b[39;00m,\n\u001b[1;32m    309\u001b[0m         stacklevel\u001b[38;5;241m=\u001b[39mstacklevel,\n\u001b[1;32m    310\u001b[0m     )\n\u001b[0;32m--> 311\u001b[0m \u001b[38;5;28;01mreturn\u001b[39;00m \u001b[43mfunc\u001b[49m\u001b[43m(\u001b[49m\u001b[38;5;241;43m*\u001b[39;49m\u001b[43margs\u001b[49m\u001b[43m,\u001b[49m\u001b[43m \u001b[49m\u001b[38;5;241;43m*\u001b[39;49m\u001b[38;5;241;43m*\u001b[39;49m\u001b[43mkwargs\u001b[49m\u001b[43m)\u001b[49m\n",
      "File \u001b[0;32m~/ENS_M1_Stage_2022/.venv/lib/python3.9/site-packages/pandas/io/parsers/readers.py:680\u001b[0m, in \u001b[0;36mread_csv\u001b[0;34m(filepath_or_buffer, sep, delimiter, header, names, index_col, usecols, squeeze, prefix, mangle_dupe_cols, dtype, engine, converters, true_values, false_values, skipinitialspace, skiprows, skipfooter, nrows, na_values, keep_default_na, na_filter, verbose, skip_blank_lines, parse_dates, infer_datetime_format, keep_date_col, date_parser, dayfirst, cache_dates, iterator, chunksize, compression, thousands, decimal, lineterminator, quotechar, quoting, doublequote, escapechar, comment, encoding, encoding_errors, dialect, error_bad_lines, warn_bad_lines, on_bad_lines, delim_whitespace, low_memory, memory_map, float_precision, storage_options)\u001b[0m\n\u001b[1;32m    665\u001b[0m kwds_defaults \u001b[38;5;241m=\u001b[39m _refine_defaults_read(\n\u001b[1;32m    666\u001b[0m     dialect,\n\u001b[1;32m    667\u001b[0m     delimiter,\n\u001b[0;32m   (...)\u001b[0m\n\u001b[1;32m    676\u001b[0m     defaults\u001b[38;5;241m=\u001b[39m{\u001b[38;5;124m\"\u001b[39m\u001b[38;5;124mdelimiter\u001b[39m\u001b[38;5;124m\"\u001b[39m: \u001b[38;5;124m\"\u001b[39m\u001b[38;5;124m,\u001b[39m\u001b[38;5;124m\"\u001b[39m},\n\u001b[1;32m    677\u001b[0m )\n\u001b[1;32m    678\u001b[0m kwds\u001b[38;5;241m.\u001b[39mupdate(kwds_defaults)\n\u001b[0;32m--> 680\u001b[0m \u001b[38;5;28;01mreturn\u001b[39;00m \u001b[43m_read\u001b[49m\u001b[43m(\u001b[49m\u001b[43mfilepath_or_buffer\u001b[49m\u001b[43m,\u001b[49m\u001b[43m \u001b[49m\u001b[43mkwds\u001b[49m\u001b[43m)\u001b[49m\n",
      "File \u001b[0;32m~/ENS_M1_Stage_2022/.venv/lib/python3.9/site-packages/pandas/io/parsers/readers.py:575\u001b[0m, in \u001b[0;36m_read\u001b[0;34m(filepath_or_buffer, kwds)\u001b[0m\n\u001b[1;32m    572\u001b[0m _validate_names(kwds\u001b[38;5;241m.\u001b[39mget(\u001b[38;5;124m\"\u001b[39m\u001b[38;5;124mnames\u001b[39m\u001b[38;5;124m\"\u001b[39m, \u001b[38;5;28;01mNone\u001b[39;00m))\n\u001b[1;32m    574\u001b[0m \u001b[38;5;66;03m# Create the parser.\u001b[39;00m\n\u001b[0;32m--> 575\u001b[0m parser \u001b[38;5;241m=\u001b[39m \u001b[43mTextFileReader\u001b[49m\u001b[43m(\u001b[49m\u001b[43mfilepath_or_buffer\u001b[49m\u001b[43m,\u001b[49m\u001b[43m \u001b[49m\u001b[38;5;241;43m*\u001b[39;49m\u001b[38;5;241;43m*\u001b[39;49m\u001b[43mkwds\u001b[49m\u001b[43m)\u001b[49m\n\u001b[1;32m    577\u001b[0m \u001b[38;5;28;01mif\u001b[39;00m chunksize \u001b[38;5;129;01mor\u001b[39;00m iterator:\n\u001b[1;32m    578\u001b[0m     \u001b[38;5;28;01mreturn\u001b[39;00m parser\n",
      "File \u001b[0;32m~/ENS_M1_Stage_2022/.venv/lib/python3.9/site-packages/pandas/io/parsers/readers.py:933\u001b[0m, in \u001b[0;36mTextFileReader.__init__\u001b[0;34m(self, f, engine, **kwds)\u001b[0m\n\u001b[1;32m    930\u001b[0m     \u001b[38;5;28mself\u001b[39m\u001b[38;5;241m.\u001b[39moptions[\u001b[38;5;124m\"\u001b[39m\u001b[38;5;124mhas_index_names\u001b[39m\u001b[38;5;124m\"\u001b[39m] \u001b[38;5;241m=\u001b[39m kwds[\u001b[38;5;124m\"\u001b[39m\u001b[38;5;124mhas_index_names\u001b[39m\u001b[38;5;124m\"\u001b[39m]\n\u001b[1;32m    932\u001b[0m \u001b[38;5;28mself\u001b[39m\u001b[38;5;241m.\u001b[39mhandles: IOHandles \u001b[38;5;241m|\u001b[39m \u001b[38;5;28;01mNone\u001b[39;00m \u001b[38;5;241m=\u001b[39m \u001b[38;5;28;01mNone\u001b[39;00m\n\u001b[0;32m--> 933\u001b[0m \u001b[38;5;28mself\u001b[39m\u001b[38;5;241m.\u001b[39m_engine \u001b[38;5;241m=\u001b[39m \u001b[38;5;28;43mself\u001b[39;49m\u001b[38;5;241;43m.\u001b[39;49m\u001b[43m_make_engine\u001b[49m\u001b[43m(\u001b[49m\u001b[43mf\u001b[49m\u001b[43m,\u001b[49m\u001b[43m \u001b[49m\u001b[38;5;28;43mself\u001b[39;49m\u001b[38;5;241;43m.\u001b[39;49m\u001b[43mengine\u001b[49m\u001b[43m)\u001b[49m\n",
      "File \u001b[0;32m~/ENS_M1_Stage_2022/.venv/lib/python3.9/site-packages/pandas/io/parsers/readers.py:1217\u001b[0m, in \u001b[0;36mTextFileReader._make_engine\u001b[0;34m(self, f, engine)\u001b[0m\n\u001b[1;32m   1213\u001b[0m     mode \u001b[38;5;241m=\u001b[39m \u001b[38;5;124m\"\u001b[39m\u001b[38;5;124mrb\u001b[39m\u001b[38;5;124m\"\u001b[39m\n\u001b[1;32m   1214\u001b[0m \u001b[38;5;66;03m# error: No overload variant of \"get_handle\" matches argument types\u001b[39;00m\n\u001b[1;32m   1215\u001b[0m \u001b[38;5;66;03m# \"Union[str, PathLike[str], ReadCsvBuffer[bytes], ReadCsvBuffer[str]]\"\u001b[39;00m\n\u001b[1;32m   1216\u001b[0m \u001b[38;5;66;03m# , \"str\", \"bool\", \"Any\", \"Any\", \"Any\", \"Any\", \"Any\"\u001b[39;00m\n\u001b[0;32m-> 1217\u001b[0m \u001b[38;5;28mself\u001b[39m\u001b[38;5;241m.\u001b[39mhandles \u001b[38;5;241m=\u001b[39m \u001b[43mget_handle\u001b[49m\u001b[43m(\u001b[49m\u001b[43m  \u001b[49m\u001b[38;5;66;43;03m# type: ignore[call-overload]\u001b[39;49;00m\n\u001b[1;32m   1218\u001b[0m \u001b[43m    \u001b[49m\u001b[43mf\u001b[49m\u001b[43m,\u001b[49m\n\u001b[1;32m   1219\u001b[0m \u001b[43m    \u001b[49m\u001b[43mmode\u001b[49m\u001b[43m,\u001b[49m\n\u001b[1;32m   1220\u001b[0m \u001b[43m    \u001b[49m\u001b[43mencoding\u001b[49m\u001b[38;5;241;43m=\u001b[39;49m\u001b[38;5;28;43mself\u001b[39;49m\u001b[38;5;241;43m.\u001b[39;49m\u001b[43moptions\u001b[49m\u001b[38;5;241;43m.\u001b[39;49m\u001b[43mget\u001b[49m\u001b[43m(\u001b[49m\u001b[38;5;124;43m\"\u001b[39;49m\u001b[38;5;124;43mencoding\u001b[39;49m\u001b[38;5;124;43m\"\u001b[39;49m\u001b[43m,\u001b[49m\u001b[43m \u001b[49m\u001b[38;5;28;43;01mNone\u001b[39;49;00m\u001b[43m)\u001b[49m\u001b[43m,\u001b[49m\n\u001b[1;32m   1221\u001b[0m \u001b[43m    \u001b[49m\u001b[43mcompression\u001b[49m\u001b[38;5;241;43m=\u001b[39;49m\u001b[38;5;28;43mself\u001b[39;49m\u001b[38;5;241;43m.\u001b[39;49m\u001b[43moptions\u001b[49m\u001b[38;5;241;43m.\u001b[39;49m\u001b[43mget\u001b[49m\u001b[43m(\u001b[49m\u001b[38;5;124;43m\"\u001b[39;49m\u001b[38;5;124;43mcompression\u001b[39;49m\u001b[38;5;124;43m\"\u001b[39;49m\u001b[43m,\u001b[49m\u001b[43m \u001b[49m\u001b[38;5;28;43;01mNone\u001b[39;49;00m\u001b[43m)\u001b[49m\u001b[43m,\u001b[49m\n\u001b[1;32m   1222\u001b[0m \u001b[43m    \u001b[49m\u001b[43mmemory_map\u001b[49m\u001b[38;5;241;43m=\u001b[39;49m\u001b[38;5;28;43mself\u001b[39;49m\u001b[38;5;241;43m.\u001b[39;49m\u001b[43moptions\u001b[49m\u001b[38;5;241;43m.\u001b[39;49m\u001b[43mget\u001b[49m\u001b[43m(\u001b[49m\u001b[38;5;124;43m\"\u001b[39;49m\u001b[38;5;124;43mmemory_map\u001b[39;49m\u001b[38;5;124;43m\"\u001b[39;49m\u001b[43m,\u001b[49m\u001b[43m \u001b[49m\u001b[38;5;28;43;01mFalse\u001b[39;49;00m\u001b[43m)\u001b[49m\u001b[43m,\u001b[49m\n\u001b[1;32m   1223\u001b[0m \u001b[43m    \u001b[49m\u001b[43mis_text\u001b[49m\u001b[38;5;241;43m=\u001b[39;49m\u001b[43mis_text\u001b[49m\u001b[43m,\u001b[49m\n\u001b[1;32m   1224\u001b[0m \u001b[43m    \u001b[49m\u001b[43merrors\u001b[49m\u001b[38;5;241;43m=\u001b[39;49m\u001b[38;5;28;43mself\u001b[39;49m\u001b[38;5;241;43m.\u001b[39;49m\u001b[43moptions\u001b[49m\u001b[38;5;241;43m.\u001b[39;49m\u001b[43mget\u001b[49m\u001b[43m(\u001b[49m\u001b[38;5;124;43m\"\u001b[39;49m\u001b[38;5;124;43mencoding_errors\u001b[39;49m\u001b[38;5;124;43m\"\u001b[39;49m\u001b[43m,\u001b[49m\u001b[43m \u001b[49m\u001b[38;5;124;43m\"\u001b[39;49m\u001b[38;5;124;43mstrict\u001b[39;49m\u001b[38;5;124;43m\"\u001b[39;49m\u001b[43m)\u001b[49m\u001b[43m,\u001b[49m\n\u001b[1;32m   1225\u001b[0m \u001b[43m    \u001b[49m\u001b[43mstorage_options\u001b[49m\u001b[38;5;241;43m=\u001b[39;49m\u001b[38;5;28;43mself\u001b[39;49m\u001b[38;5;241;43m.\u001b[39;49m\u001b[43moptions\u001b[49m\u001b[38;5;241;43m.\u001b[39;49m\u001b[43mget\u001b[49m\u001b[43m(\u001b[49m\u001b[38;5;124;43m\"\u001b[39;49m\u001b[38;5;124;43mstorage_options\u001b[39;49m\u001b[38;5;124;43m\"\u001b[39;49m\u001b[43m,\u001b[49m\u001b[43m \u001b[49m\u001b[38;5;28;43;01mNone\u001b[39;49;00m\u001b[43m)\u001b[49m\u001b[43m,\u001b[49m\n\u001b[1;32m   1226\u001b[0m \u001b[43m\u001b[49m\u001b[43m)\u001b[49m\n\u001b[1;32m   1227\u001b[0m \u001b[38;5;28;01massert\u001b[39;00m \u001b[38;5;28mself\u001b[39m\u001b[38;5;241m.\u001b[39mhandles \u001b[38;5;129;01mis\u001b[39;00m \u001b[38;5;129;01mnot\u001b[39;00m \u001b[38;5;28;01mNone\u001b[39;00m\n\u001b[1;32m   1228\u001b[0m f \u001b[38;5;241m=\u001b[39m \u001b[38;5;28mself\u001b[39m\u001b[38;5;241m.\u001b[39mhandles\u001b[38;5;241m.\u001b[39mhandle\n",
      "File \u001b[0;32m~/ENS_M1_Stage_2022/.venv/lib/python3.9/site-packages/pandas/io/common.py:789\u001b[0m, in \u001b[0;36mget_handle\u001b[0;34m(path_or_buf, mode, encoding, compression, memory_map, is_text, errors, storage_options)\u001b[0m\n\u001b[1;32m    784\u001b[0m \u001b[38;5;28;01melif\u001b[39;00m \u001b[38;5;28misinstance\u001b[39m(handle, \u001b[38;5;28mstr\u001b[39m):\n\u001b[1;32m    785\u001b[0m     \u001b[38;5;66;03m# Check whether the filename is to be opened in binary mode.\u001b[39;00m\n\u001b[1;32m    786\u001b[0m     \u001b[38;5;66;03m# Binary mode does not support 'encoding' and 'newline'.\u001b[39;00m\n\u001b[1;32m    787\u001b[0m     \u001b[38;5;28;01mif\u001b[39;00m ioargs\u001b[38;5;241m.\u001b[39mencoding \u001b[38;5;129;01mand\u001b[39;00m \u001b[38;5;124m\"\u001b[39m\u001b[38;5;124mb\u001b[39m\u001b[38;5;124m\"\u001b[39m \u001b[38;5;129;01mnot\u001b[39;00m \u001b[38;5;129;01min\u001b[39;00m ioargs\u001b[38;5;241m.\u001b[39mmode:\n\u001b[1;32m    788\u001b[0m         \u001b[38;5;66;03m# Encoding\u001b[39;00m\n\u001b[0;32m--> 789\u001b[0m         handle \u001b[38;5;241m=\u001b[39m \u001b[38;5;28;43mopen\u001b[39;49m\u001b[43m(\u001b[49m\n\u001b[1;32m    790\u001b[0m \u001b[43m            \u001b[49m\u001b[43mhandle\u001b[49m\u001b[43m,\u001b[49m\n\u001b[1;32m    791\u001b[0m \u001b[43m            \u001b[49m\u001b[43mioargs\u001b[49m\u001b[38;5;241;43m.\u001b[39;49m\u001b[43mmode\u001b[49m\u001b[43m,\u001b[49m\n\u001b[1;32m    792\u001b[0m \u001b[43m            \u001b[49m\u001b[43mencoding\u001b[49m\u001b[38;5;241;43m=\u001b[39;49m\u001b[43mioargs\u001b[49m\u001b[38;5;241;43m.\u001b[39;49m\u001b[43mencoding\u001b[49m\u001b[43m,\u001b[49m\n\u001b[1;32m    793\u001b[0m \u001b[43m            \u001b[49m\u001b[43merrors\u001b[49m\u001b[38;5;241;43m=\u001b[39;49m\u001b[43merrors\u001b[49m\u001b[43m,\u001b[49m\n\u001b[1;32m    794\u001b[0m \u001b[43m            \u001b[49m\u001b[43mnewline\u001b[49m\u001b[38;5;241;43m=\u001b[39;49m\u001b[38;5;124;43m\"\u001b[39;49m\u001b[38;5;124;43m\"\u001b[39;49m\u001b[43m,\u001b[49m\n\u001b[1;32m    795\u001b[0m \u001b[43m        \u001b[49m\u001b[43m)\u001b[49m\n\u001b[1;32m    796\u001b[0m     \u001b[38;5;28;01melse\u001b[39;00m:\n\u001b[1;32m    797\u001b[0m         \u001b[38;5;66;03m# Binary mode\u001b[39;00m\n\u001b[1;32m    798\u001b[0m         handle \u001b[38;5;241m=\u001b[39m \u001b[38;5;28mopen\u001b[39m(handle, ioargs\u001b[38;5;241m.\u001b[39mmode)\n",
      "\u001b[0;31mFileNotFoundError\u001b[0m: [Errno 2] No such file or directory: 'test.csv'"
     ]
    }
   ],
   "source": [
    "df = pd.read_csv(\"test.csv\")\n",
    "df['BRAIDING_INDEX'] = (df['TOTAL_PERIM_SMOOTH']/2)/2000; # Calculate braiding index\n",
    "df"
   ]
  },
  {
   "cell_type": "code",
   "execution_count": 83,
   "metadata": {},
   "outputs": [],
   "source": [
    "df_c = df.copy();\n",
    "\n",
    "fig, axs = plt.subplots(9, 9, figsize=(24, 18), constrained_layout=True);\n",
    "axs = axs.flatten();\n",
    "for k, v in enumerate(range(1, 77)):\n",
    "    df_d = df_c[df_c[\"ID\"] == v];\n",
    "    axs[k].set_title(v);\n",
    "    axs[k].plot(df_d[\"SENSING_TIME\"], df_d[\"BRAIDING_INDEX\"], '+');"
   ]
  },
  {
   "cell_type": "code",
   "execution_count": null,
   "metadata": {},
   "outputs": [],
   "source": [
    "# For call:\n",
    "# Maybe try to get things working for Nelly...\n",
    "# Python 3.10: https://github.com/google/earthengine-api/issues/181\n",
    "# Python 3.9: Works\n",
    "# Modules:\n",
    "# numpy, pandas, matplotlib\n",
    "# For Windows: pipwin gdal, fiona\n",
    "# geemap, geopandas, ee\n",
    "# TODO List:\n",
    "# Fix laptop (DONE)\n",
    "# Fix ownCloud (DONE)\n",
    "# Email Eric about structure/limits of M1 Report (DONE) [reponse]\n",
    "\n",
    "\n",
    "# Barbara:\n",
    "# Look into making algorithm faster (doing all 78 in one pass?) [Currently it takes 1H to run...]\n",
    "    # MAYBE I can run multiple .info() in seperate threads(??) (does google allow multiple requests like this?)\n",
    "    # Cannot map over DGOs in a shape in a single command...\n",
    "    # PERHAPS modify process_polygon (make it general) move it out of the loop!\n",
    "    # Do process_polygon on ALL DGOs first - we can REUSE the same water map accordingly\n",
    "\n",
    "# Try to make mosaic to avoid overlapping values. (Look at google earth api)\n",
    "# https://developers.google.com/earth-engine/guides/ic_composite_mosaic\n",
    "\n",
    "# Run again to extract SENTINEL data (from high-res sattelites)\n",
    "  # REF: Barbara's email\n",
    "# [Comparison between Sentinel & Landsat Data]\n",
    "# Support for downloading tiles from meta information --> to use for GIS fieldwork\n",
    "\n",
    "# Nelly/Patrice:\n",
    "# Document installation procedure\n",
    "# Reorganise repository \n",
    "# Write README.md\n",
    "\n",
    "# For Monday:\n",
    "# - extract the 4 channel images for the 200 timeslots and share them with me [finer scale analysis?]\n",
    "# - extracted cvs. + processed data with l1 optimisation method for 3 differet level of cloud threshold\n"
   ]
  }
 ],
 "metadata": {
  "interpreter": {
   "hash": "03689dae94c77a64fdb1b923ddbaa3b187c669e3f6899ecb999a7e0929ec7ec3"
  },
  "kernelspec": {
   "display_name": "Python 3 (ipykernel)",
   "language": "python",
   "name": "python3"
  },
  "language_info": {
   "codemirror_mode": {
    "name": "ipython",
    "version": 3
   },
   "file_extension": ".py",
   "mimetype": "text/x-python",
   "name": "python",
   "nbconvert_exporter": "python",
   "pygments_lexer": "ipython3",
   "version": "3.9.12"
  },
  "vscode": {
   "interpreter": {
    "hash": "5b3ded1ccb95c1d9bd405e7b823d9e85424cde40fbb5985eb47e999ef50e15b4"
   }
  }
 },
 "nbformat": 4,
 "nbformat_minor": 4
}
