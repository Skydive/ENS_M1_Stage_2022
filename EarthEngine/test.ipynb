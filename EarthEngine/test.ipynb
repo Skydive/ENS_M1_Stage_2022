{
 "cells": [
  {
   "cell_type": "code",
   "execution_count": 1,
   "metadata": {},
   "outputs": [
    {
     "name": "stdout",
     "output_type": "stream",
     "text": [
      "Test!\n"
     ]
    }
   ],
   "source": [
    "print(\"Test!\")"
   ]
  },
  {
   "cell_type": "code",
   "execution_count": 2,
   "metadata": {},
   "outputs": [],
   "source": [
    "# TODO: Auth file somehow?\n",
    "import ee\n",
    "import numpy as np\n",
    "import geopandas\n",
    "# import matplotlib.pyplot as plt\n",
    "\n",
    "# from bqplot import pyplot as plt\n",
    "# from ipyleaflet import *\n",
    "\n",
    "# ee.Authenticate();\n",
    "# ee.Initialize();\n",
    "\n",
    "import geemap"
   ]
  },
  {
   "cell_type": "code",
   "execution_count": 3,
   "metadata": {},
   "outputs": [],
   "source": [
    "Map = geemap.Map(center=(40, -100), zoom=4)"
   ]
  },
  {
   "cell_type": "code",
   "execution_count": 4,
   "metadata": {},
   "outputs": [],
   "source": [
    "shp_path = './Lhasa/Lhasa_RC_DGO2km_updated.shp';\n",
    "lhasa_shp = geemap.shp_to_ee(shp_path);"
   ]
  },
  {
   "cell_type": "code",
   "execution_count": 5,
   "metadata": {},
   "outputs": [],
   "source": [
    "Map.addLayer(lhasa_shp, {}, 'Lhasa River SHP');"
   ]
  },
  {
   "cell_type": "code",
   "execution_count": 21,
   "metadata": {},
   "outputs": [],
   "source": [
    "Map.zoom = 11\n",
    "Map.center_object(lhasa_shp)"
   ]
  },
  {
   "cell_type": "code",
   "execution_count": 36,
   "metadata": {},
   "outputs": [
    {
     "ename": "SyntaxError",
     "evalue": "invalid syntax (<ipython-input-36-6f6e93eab2dc>, line 66)",
     "output_type": "error",
     "traceback": [
      "\u001b[0;36m  File \u001b[0;32m\"<ipython-input-36-6f6e93eab2dc>\"\u001b[0;36m, line \u001b[0;32m66\u001b[0m\n\u001b[0;31m    mask = (qa.bitwiseAnd(cloudShadowBitMask).eq(0).and(qa.bitwiseAnd(cloudsBitMask).eq(0)));\u001b[0m\n\u001b[0m                                                    ^\u001b[0m\n\u001b[0;31mSyntaxError\u001b[0m\u001b[0;31m:\u001b[0m invalid syntax\n"
     ]
    }
   ],
   "source": [
    "filter = ee.Filter.inList('DGO_FID', [1]);\n",
    "AOI = lhasa_shp.filter(filter);\n",
    "filtered_DGO = AOI;\n",
    "AOI_ID=f'middle_ID{1}';\n",
    "print(AOI);\n",
    "\n",
    "START_DATE = '1988-04-06';\n",
    "END_DATE = '1988-04-08';\n",
    "\n",
    "CLOUD_FILTER = 80;\n",
    "START = ee.Date(START_DATE);\n",
    "END = ee.Date(END_DATE);\n",
    "DAY_DIFF = ee.Date(END_DATE).difference(START, 'day');\n",
    "DAY_RANGE = ee.List.sequence(0,DAY_DIFF.subtract(1),1).map(lambda day: START.advance(day,'day'));\n",
    "\n",
    "LANDSAT_SCALE = 30;\n",
    "#  /* Working resolution, minimum 30 meters, read\n",
    "#                          https://developers.google.com/earth-engine/guides/scale\n",
    "#                          to learn how scales/images pyramids work in GEE */\n",
    "MIN_PIX = 2; # // To filter small water polygons\n",
    "\n",
    "eightCo = True;      # // eightConnected boolean for vectorization\n",
    "nCo = (eightCo+1)*4; #  // NConnected integer for file exports\n",
    "\n",
    "SIMPLIFY_TOLERANCE_N = 2; \n",
    "#/* int or float, multiplied by LANDSAT_SCALE, becomes the tolerance \n",
    "#                                  of the simplification of the water polygons */\n",
    "\n",
    "# Visulization parameters :\n",
    "\n",
    "NDWI_MIN = -0.3;\n",
    "NDWI_MAX = 0.3;\n",
    "\n",
    "NDVI_MIN = -0.5;\n",
    "NDVI_MAX = 0.5;\n",
    "\n",
    "CLOUD_PAL = ['gray', 'white'];\n",
    "NDWI_PAL = ['black','white','blue'];\n",
    "NDVI_PAL = ['black','white','green'];\n",
    "\n",
    "# Export parameters :\n",
    "from datetime import datetime\n",
    "YMD = datetime.today().strftime('%Y-%m-%d');\n",
    "FOLDER_NAME = f'GEE_Exports_Lhasa_Landsat_{YMD}';\n",
    "\n",
    "def getCover(image, AOI, scale):\n",
    "    totPixels = ee.Number(image.unmask(1).reduceRegion(\n",
    "        reducer=ee.Reducer.count(),\n",
    "        scale=LANDSAT_SCALE,\n",
    "        geometry=AOI,\n",
    "        maxPixels=1e13\n",
    "    ).values().get(0));\n",
    "    actPixels = ee.Number(image.reduceRegion(\n",
    "        reducer=ee.Reducer.count(),\n",
    "        scale=LANDSAT_SCALE,\n",
    "        geometry=AOI,\n",
    "        maxPixels=1e13\n",
    "    ).values().get(0));\n",
    "    percCover = actPixels.divide(totPixels).multiply(100).round();\n",
    "    return image.set('percCover', percCover);\n",
    "\n",
    "def maskL8sr(image):\n",
    "    cloudShadowBitMask = (1 << 3);\n",
    "    cloudsBitMask = (1 << 5);\n",
    "    qa = image.select('QA_PIXEL');\n",
    "    mask = (qa.bitwiseAnd(cloudShadowBitMask).eq(0)\n",
    "    .And(qa.bitwiseAnd(cloudsBitMask).eq(0)));\n",
    "    return image.updateMask(mask);\n",
    "\n",
    "LANDSAT_FULL = (ee.ImageCollection('LANDSAT/LC08/C02/T1_L2')\n",
    "    .select(['SR_B2', 'SR_B3', 'SR_B4', 'SR_B5','SR_B6','SR_B7','QA_PIXEL'])\n",
    "    .map(lambda image: image.rename(['B1', 'B2', 'B3', 'B4','B5','B7','QA_PIXEL'])));\n",
    "\n",
    "\n",
    "LANDSAT_FULL = (LANDSAT_FULL\n",
    "                    .merge(ee.ImageCollection('LANDSAT/LE07/C02/T1_L2').select(['SR_B1', 'SR_B2', 'SR_B3', 'SR_B4','SR_B5','SR_B7','QA_PIXEL']))\n",
    "                    .map(lambda image: image.rename(['B1', 'B2', 'B3', 'B4','B5','B7','QA_PIXEL']))\n",
    "                    .merge(ee.ImageCollection('LANDSAT/LT05/C02/T1_L2').select(['SR_B1', 'SR_B2', 'SR_B3', 'SR_B4','SR_B5','SR_B7','QA_PIXEL']))\n",
    "                    .map(lambda image: image.rename(['B1', 'B2', 'B3', 'B4','B5','B7','QA_PIXEL']))\n",
    "                    .merge(ee.ImageCollection('LANDSAT/LT04/C02/T1_L2').select(['SR_B1', 'SR_B2', 'SR_B3', 'SR_B4','SR_B5','SR_B7','QA_PIXEL']))\n",
    "                    .map(lambda image: image.rename(['B1', 'B2', 'B3', 'B4','B5','B7','QA_PIXEL']))   \n",
    "                );\n",
    "                      });\n",
    "\n",
    "LANDSAT = (LANDSAT_FULL\n",
    "    .filterDate(START_DATE, END_DATE)\n",
    "    .filter(ee.Filter.lte('CLOUD_COVER', CLOUD_FILTER))\n",
    "    .map(maskL8sr)\n",
    "    .filterBounds(AOI));\n",
    "\n",
    "LANDSAT = LANDSAT.map(lambda image: getCover(image, AOI, LANDSAT_SCALE));\n",
    "LANDSAT = LANDSAT.filterMetadata('percCover', 'greater_than', 98);\n",
    "def addMNDWI(image):\n",
    "    return image.addBands(srcImg=image.normalizedDifference(['B2','B5'])).rename('MNDWI'); # B2=greenl B4=SWIR\n",
    "LANDSAT = LANDSAT.map(addMNDWI);\n",
    "\n",
    "def preProcess(image):\n",
    "  image = addMNDWI(image);\n",
    "  return image.select(['MNDWI']);\n",
    "\n",
    "def addIS_WATER_MNDWI(image):\n",
    "    return image.addBands(image.expression('MNDWI >  0.0', {\n",
    "            'MNDWI': image.select('MNDWI'),\n",
    "            }).rename('IS_WATER_MNDWI'));\n",
    "\n",
    "LANDSAT = LANDSAT.map(addIS_WATER_MNDWI);\n",
    "def IS_WATER_INDIC(INDIC, ImColl):\n",
    "    return ImColl.select('IS_WATER_' + INDIC).map(lambda image: image.updateMask(image.neq(0)));\n",
    "\n",
    "IS_WATER_MNDWI = IS_WATER_INDIC('MNDWI', LANDSAT);\n",
    "Map.addLayer(IS_WATER_MNDWI, {palette:'blue'}, 'water MNDWI', true);"
   ]
  },
  {
   "cell_type": "code",
   "execution_count": 9,
   "metadata": {},
   "outputs": [
    {
     "data": {
      "application/vnd.jupyter.widget-view+json": {
       "model_id": "8517a970927e4260983d25d035ddf6db",
       "version_major": 2,
       "version_minor": 0
      },
      "text/plain": [
       "Map(bottom=3389.0, center=[29.651569731000073, 91.3219064102816], controls=(WidgetControl(options=['position',…"
      ]
     },
     "metadata": {},
     "output_type": "display_data"
    }
   ],
   "source": [
    "Map"
   ]
  },
  {
   "cell_type": "code",
   "execution_count": 19,
   "metadata": {},
   "outputs": [],
   "source": []
  }
 ],
 "metadata": {
  "kernelspec": {
   "display_name": "Python 3.8.13 64-bit",
   "language": "python",
   "name": "python3"
  },
  "language_info": {
   "codemirror_mode": {
    "name": "ipython",
    "version": 3
   },
   "file_extension": ".py",
   "mimetype": "text/x-python",
   "name": "python",
   "nbconvert_exporter": "python",
   "pygments_lexer": "ipython3",
   "version": "3.8.13"
  },
  "orig_nbformat": 4,
  "vscode": {
   "interpreter": {
    "hash": "5b3ded1ccb95c1d9bd405e7b823d9e85424cde40fbb5985eb47e999ef50e15b4"
   }
  }
 },
 "nbformat": 4,
 "nbformat_minor": 2
}
